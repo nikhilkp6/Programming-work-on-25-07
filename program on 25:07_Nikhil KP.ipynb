{
  "nbformat": 4,
  "nbformat_minor": 0,
  "metadata": {
    "colab": {
      "name": "Untitled12.ipynb",
      "provenance": []
    },
    "kernelspec": {
      "name": "python3",
      "display_name": "Python 3"
    },
    "language_info": {
      "name": "python"
    }
  },
  "cells": [
    {
      "cell_type": "code",
      "execution_count": 2,
      "metadata": {
        "colab": {
          "base_uri": "https://localhost:8080/"
        },
        "id": "Oym0Aa8GFvse",
        "outputId": "6e3294bf-bc9e-4520-a495-7c3cc9bd7bd0"
      },
      "outputs": [
        {
          "output_type": "stream",
          "name": "stdout",
          "text": [
            "malayalam\n",
            "The given string is paliandrome\n"
          ]
        }
      ],
      "source": [
        "#paliandrome or not\n",
        "st=input()\n",
        "rst=st[::-1]\n",
        "if st==rst:\n",
        "  print(\"The given string is paliandrome\")\n",
        "else:\n",
        "  print(\"The string is not paliandrome\")"
      ]
    },
    {
      "cell_type": "code",
      "source": [
        "#remove particular character from string\n",
        "st1=input(\"Enter the string::\")\n",
        "st2=input(\"enter the character that needed to remove::\")\n",
        "a=st1.replace(st2,\"\")\n",
        "print(a)"
      ],
      "metadata": {
        "colab": {
          "base_uri": "https://localhost:8080/"
        },
        "id": "VWItDfdvGatW",
        "outputId": "a589a845-0525-4434-93c1-9ba5acc0bdee"
      },
      "execution_count": 8,
      "outputs": [
        {
          "output_type": "stream",
          "name": "stdout",
          "text": [
            "Enter the stringnikhil\n",
            "enter the character that needed to removei\n",
            "nkhl\n"
          ]
        }
      ]
    },
    {
      "cell_type": "code",
      "source": [
        "#count occurance of a character\n",
        "st1=input(\"Enter the string::\")\n",
        "st2=input(\"enter the character that needed to count::\")\n",
        "count=0\n",
        "for i in st1:\n",
        "  if st2==i:\n",
        "    count=count+1\n",
        "print(count)\n",
        "\n"
      ],
      "metadata": {
        "colab": {
          "base_uri": "https://localhost:8080/"
        },
        "id": "L2jAD2MAH40B",
        "outputId": "0ed86f39-c2b5-4d80-a667-f7c646e93a28"
      },
      "execution_count": 9,
      "outputs": [
        {
          "output_type": "stream",
          "name": "stdout",
          "text": [
            "Enter the stringnikhil\n",
            "enter the character that needed to counti\n",
            "2\n"
          ]
        }
      ]
    },
    {
      "cell_type": "code",
      "source": [
        "st1=input(\"Enter the string::\")\n",
        "st2=set(st1)\n",
        "s=\"\".join(st2)\n",
        "print(\"with out order::\"+s)\n"
      ],
      "metadata": {
        "colab": {
          "base_uri": "https://localhost:8080/"
        },
        "id": "tJyAI5A1HC3u",
        "outputId": "d5e51008-48a7-4c59-82de-7b94e9ea4243"
      },
      "execution_count": 12,
      "outputs": [
        {
          "output_type": "stream",
          "name": "stdout",
          "text": [
            "Enter the string::nikhil\n",
            "with out order::inhlk\n"
          ]
        }
      ]
    },
    {
      "cell_type": "code",
      "source": [
        "arr1=list(map(int,input(\"enter the array\").split()))\n",
        "arr1.sort()\n",
        "a=arr1[0]\n",
        "x=len(arr1)\n",
        "b=arr1[x-1]\n",
        "print(\"Smallest element is::\")\n",
        "print(a)\n",
        "print(\"largest element is::\")\n",
        "print(b)"
      ],
      "metadata": {
        "colab": {
          "base_uri": "https://localhost:8080/"
        },
        "id": "qOtGMsZ4K9Qy",
        "outputId": "6c893452-0746-4f4c-b83d-1c2a9fea5fab"
      },
      "execution_count": 20,
      "outputs": [
        {
          "output_type": "stream",
          "name": "stdout",
          "text": [
            "enter the array10 20 30 405 32 4 6 \n",
            "4\n",
            "405\n"
          ]
        }
      ]
    }
  ]
}